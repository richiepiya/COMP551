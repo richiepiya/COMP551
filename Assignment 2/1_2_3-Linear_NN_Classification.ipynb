{
 "cells": [
  {
   "cell_type": "code",
   "execution_count": 24,
   "metadata": {
    "collapsed": false
   },
   "outputs": [],
   "source": [
    "import numpy as np\n",
    "import pandas as pd\n",
    "import matplotlib.pyplot as plt\n",
    "\n",
    "# Read data from DataSets\n",
    "trainData = pd.read_csv(\"data/Dataset_1_train.csv\", header=None)\n",
    "validData = pd.read_csv(\"data/Dataset_1_valid.csv\", header=None)\n",
    "testData = pd.read_csv(\"data/Dataset_1_test.csv\", header=None)\n",
    "# Sort data\n",
    "trainData.sort_values(by=[0], inplace=True)\n",
    "validData.sort_values(by=[0], inplace=True)\n",
    "testData.sort_values(by=[0], inplace=True)\n",
    "# Drop end column (not useful to us)\n",
    "trainData.drop([2], axis=1, inplace=True)\n",
    "validData.drop([2], axis=1, inplace=True)\n",
    "testData.drop([2], axis=1, inplace=True)\n",
    "# 20-degree polynomial\n",
    "M = 20;\n",
    "\n",
    "\n",
    "\n",
    "\n",
    "# def getPolyMatrix(data, deg):\n",
    "#     input_data = data[0]\n",
    "#     data.drop([1], axis=1, inplace=True)\n",
    "    \n",
    "#     # Build 50x21 matrix\n",
    "#     for i in range(deg+1):\n",
    "#         data[i] = np.power(input_data, i)\n",
    "#     return data\n",
    "\n",
    "# def getWeightedMatrix(X, Y, lambdaVal, deg):\n",
    "#     # X = polynomial matrix\n",
    "#     # Y = output matrix\n",
    "#     # w = weighted matrix = [(X^(T)X+I(lambdaVal))^(-1)] (X^(T)Y)\n",
    "#     XtX_IL_inv = np.linalg.pinv(np.matmul(X.T, X)+(np.identity(deg+1)*lambdaVal))\n",
    "#     XtY = np.matmul(X.T, Y)\n",
    "#     w = np.matmul(XtX_IL_inv, XtY)\n",
    "#     return w\n",
    "\n",
    "# def getMSE(X, Y, w):\n",
    "#     # MSE(w) = (1/N)sum(from n=1 to N) {Xn^(T)w - Y}^2\n",
    "#     temp = np.power(np.subtract(np.matmul(X, w), Y), 2)\n",
    "#     MSE = np.sum(temp)/temp.size\n",
    "#     return MSE\n",
    "\n",
    "# # Get output matrices, Y\n",
    "# trainOutMatrix = trainData[1]\n",
    "# validOutMatrix = validData[1]\n",
    "# testOutMatrix = testData[1]\n",
    "# # Compute polynomial matrices, X\n",
    "# trainPolyMatrix = getPolyMatrix(trainData, M)\n",
    "# validPolyMatrix = getPolyMatrix(validData, M)\n",
    "# testPolyMatrix = getPolyMatrix(testData, M)\n",
    "\n",
    "\n",
    "# ###1(a) Report the training and validation MSE (Mean-Square Error). Do not use any regularization.###\n",
    "\n",
    "# # Lambda = 0 since no regularization\n",
    "# w = getWeightedMatrix(trainPolyMatrix, trainOutMatrix, 0, M)\n",
    "# trainMSE = getMSE(trainPolyMatrix, trainOutMatrix, w)\n",
    "# validMSE = getMSE(validPolyMatrix, validOutMatrix, w)\n",
    "\n",
    "# print(\"Training MSE: \", trainMSE)\n",
    "# print(\"Validation MSE: \", validMSE)\n",
    "\n",
    "\n",
    "# ###1(b) Visualize the fit.###\n",
    "\n",
    "# #Plot Training Data\n",
    "# plt.title(\"Training Data\")\n",
    "# plt.xlabel(\"Input\")\n",
    "# plt.ylabel(\"Output\")\n",
    "# trainOutput = np.matmul(trainPolyMatrix, w)\n",
    "# plt.plot(trainPolyMatrix[1], trainOutput, 'r', label=\"y(predict)\")\n",
    "# plt.scatter(trainPolyMatrix[1], trainOutMatrix, label=\"Training Data\")\n",
    "# plt.legend(loc='best')\n",
    "# plt.show()\n",
    "# #Plot Validation Data\n",
    "# plt.title(\"Validation Data\")\n",
    "# plt.xlabel(\"Input\")\n",
    "# plt.ylabel(\"Output\")\n",
    "# validOutput = np.matmul(validPolyMatrix, w)\n",
    "# plt.plot(validPolyMatrix[1], validOutput, 'r', label=\"y(predict)\")\n",
    "# plt.scatter(validPolyMatrix[1], validOutMatrix, label=\"Validation Data\")\n",
    "# plt.legend(loc='best')\n",
    "# plt.show()"
   ]
  },
  {
   "cell_type": "code",
   "execution_count": 30,
   "metadata": {
    "collapsed": false
   },
   "outputs": [
    {
     "name": "stdout",
     "output_type": "stream",
     "text": [
      "Distribution with 100 samples:  [0.24000000000000007, 0.4400000000000002, 0.12999999999999998, 0.34000000000000014]\n",
      "Distribution with 1000 samples:  [0.23600000000000018, 0.43600000000000033, 0.1320000000000001, 0.33600000000000024]\n"
     ]
    }
   ],
   "source": [
    "###2 Implement your sampling algorithm and use it to sample his/her routine for 100 days. Report the fraction of days spent in each activity. Now use it to sample for 1000 days. Report the fraction of days spent in each activity. Compare these fractions to the underlying multinomial distribution.###\n",
    "#print(np.random.multinomial(100, [2.0/10, 4.0/10, 1.0/10, 3.0/10]))\n",
    "#print(np.random.multinomial(1000, [2.0/10, 4.0/10, 1.0/10, 3.0/10]))\n",
    "\n",
    "print(\"Distribution with 100 samples: \", dailyRoutine(100))\n",
    "print(\"Distribution with 1000 samples: \", dailyRoutine(1000))"
   ]
  },
  {
   "cell_type": "code",
   "execution_count": null,
   "metadata": {
    "collapsed": true
   },
   "outputs": [],
   "source": []
  }
 ],
 "metadata": {
  "anaconda-cloud": {},
  "kernelspec": {
   "display_name": "Python [default]",
   "language": "python",
   "name": "python3"
  },
  "language_info": {
   "codemirror_mode": {
    "name": "ipython",
    "version": 3
   },
   "file_extension": ".py",
   "mimetype": "text/x-python",
   "name": "python",
   "nbconvert_exporter": "python",
   "pygments_lexer": "ipython3",
   "version": "3.5.2"
  }
 },
 "nbformat": 4,
 "nbformat_minor": 1
}
