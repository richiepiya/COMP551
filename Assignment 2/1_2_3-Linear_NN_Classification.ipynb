{
 "cells": [
  {
   "cell_type": "code",
   "execution_count": 41,
   "metadata": {
    "collapsed": false
   },
   "outputs": [
    {
     "name": "stderr",
     "output_type": "stream",
     "text": [
      "/home/ubuntu/anaconda3/lib/python3.5/site-packages/ipykernel/__main__.py:47: SettingWithCopyWarning: \n",
      "A value is trying to be set on a copy of a slice from a DataFrame\n",
      "\n",
      "See the caveats in the documentation: http://pandas.pydata.org/pandas-docs/stable/indexing.html#indexing-view-versus-copy\n",
      "/home/ubuntu/anaconda3/lib/python3.5/site-packages/ipykernel/__main__.py:48: SettingWithCopyWarning: \n",
      "A value is trying to be set on a copy of a slice from a DataFrame\n",
      "\n",
      "See the caveats in the documentation: http://pandas.pydata.org/pandas-docs/stable/indexing.html#indexing-view-versus-copy\n"
     ]
    }
   ],
   "source": [
    "import numpy as np\n",
    "import pandas as pd\n",
    "import math\n",
    "import matplotlib.pyplot as plt\n",
    "\n",
    "# Read data from DataSets\n",
    "mean0 = pd.read_csv(\"data/DS1_m_0.txt\", header=None)\n",
    "mean1 = pd.read_csv(\"data/DS1_m_1.txt\", header=None)\n",
    "cov = pd.read_csv(\"data/DS1_cov.txt\", header=None)\n",
    "# Drop end column (not useful to us)\n",
    "mean0.drop([20], axis=1, inplace=True)\n",
    "mean1.drop([20], axis=1, inplace=True)\n",
    "cov.drop([20], axis=1, inplace=True)\n",
    "# Change to matrices\n",
    "mean0_m = mean0.as_matrix()[0]\n",
    "mean1_m = mean1.as_matrix()[0]\n",
    "cov_m = cov.as_matrix()[0]\n",
    "\n",
    "# Generate 2000 examples for each class\n",
    "dataEx = 2000\n",
    "class0 = pd.DataFrame(np.random.multivariate_normal(mean0_m, cov, dataEx))\n",
    "class1 = pd.DataFrame(np.random.multivariate_normal(mean1_m, cov, dataEx))\n",
    "# Add classification column\n",
    "class0[20] = 0\n",
    "class1[20] = 1\n",
    "class0_m = class0.as_matrix()\n",
    "class1_m = class1.as_matrix()\n",
    "\n",
    "# Split data into train, valid, test sets\n",
    "allData = np.concatenate((class0_m, class1_m), axis=0)\n",
    "np.random.shuffle(allData)\n",
    "trainSet = pd.DataFrame(allData[0:2400])\n",
    "validSet = pd.DataFrame(allData[2400:3200])\n",
    "testSet = pd.DataFrame(allData[3200:4000])\n",
    "\n",
    "# Save completed datasets\n",
    "pd.DataFrame(allData).to_csv(\"dataGenerated/DS1_data.csv\", index=False, header=False)\n",
    "trainSet.to_csv(\"dataGenerated/DS1_train.csv\", index=False, header=False)\n",
    "validSet.to_csv(\"dataGenerated/DS1_valid.csv\", index=False, header=False)\n",
    "testSet.to_csv(\"dataGenerated/DS1_test.csv\", index=False, header=False)\n",
    "\n",
    "# Split training data\n",
    "trainSet0 = trainSet[trainSet[20] == 0]\n",
    "trainSet1 = trainSet[trainSet[20] == 1]\n",
    "testOut = testSet[20]\n",
    "# Drop end column\n",
    "trainSet0.drop([20], axis=1, inplace=True)\n",
    "trainSet1.drop([20], axis=1, inplace=True)\n",
    "testSet.drop([20], axis=1, inplace=True)\n",
    "# Get length of each training set\n",
    "numData0 = len(trainSet0)\n",
    "numData1 = len(trainSet1)"
   ]
  },
  {
   "cell_type": "code",
   "execution_count": 44,
   "metadata": {
    "collapsed": false
   },
   "outputs": [
    {
     "name": "stdout",
     "output_type": "stream",
     "text": [
      "w0 =  27.8164426431\n",
      "w1 =  [ 14.42714257  -8.63783728  -6.00465852  -3.06605204  -9.93909933\n",
      "  -3.98184591  17.3143163  -24.67928237 -29.61238378   8.97642129\n",
      " -13.10130264 -12.69421249  16.3167267   13.3892369   -5.7368908\n",
      "  13.36693986  29.80521057  -6.84008656  -0.74323535  -5.37769998] \n",
      "\n",
      "Accuracy:  0.97\n",
      "Precision:  0.9587378640776699\n",
      "Recall:  0.9825870646766169\n",
      "F-measure:  0.9705159705159705\n"
     ]
    }
   ],
   "source": [
    "# Get probability of each training set\n",
    "allDataPts = numData0 + numData1\n",
    "prob0 = numData0 / allDataPts\n",
    "prob1 = numData1 / allDataPts\n",
    "\n",
    "# Get mean of each column\n",
    "mean0 = np.array(trainSet0.mean())\n",
    "mean1 = np.array(trainSet1.mean())\n",
    "\n",
    "# Compute covariance matrices to get w0 & w1\n",
    "cov0 = np.array(trainSet0-mean0)\n",
    "cov1 = np.array(trainSet1-mean1)\n",
    "s0 = np.matmul(cov0.T, cov0)\n",
    "s1 = np.matmul(cov1.T, cov1)\n",
    "cov = (s0 + s1) / allDataPts\n",
    "cov_inv = np.linalg.inv(cov)\n",
    "w0 = (math.log(prob0)-math.log(prob1)) - (np.matmul(np.matmul(mean0.T, cov_inv), mean0) - np.matmul(np.matmul(mean1.T, cov_inv), mean1))/2\n",
    "w1 = np.matmul(cov_inv, (mean0 - mean1))\n",
    "print(\"w0 = \", w0)\n",
    "print(\"w1 = \", w1, \"\\n\")\n",
    "\n",
    "# Compute GDA model\n",
    "outPredict = np.matmul(testSet, w1) + w0\n",
    "outPredict[outPredict > 0] = 0\n",
    "outPredict[outPredict < 0] = 1\n",
    "\n",
    "# Compute confusion matrix\n",
    "tp, tn, fp, fn = 0, 0, 0, 0\n",
    "for i in range(len(testOut)):\n",
    "    predVal = outPredict[i]\n",
    "    actualVal = testOut[i]\n",
    "\n",
    "    # Compare actual to predicted values\n",
    "    if (predVal == 1 and predVal == actualVal):\n",
    "        tp += 1\n",
    "    elif (predVal == 1 and predVal != actualVal):\n",
    "        fp += 1\n",
    "    elif (predVal == 0 and predVal == actualVal):\n",
    "        tn += 1\n",
    "    elif (predVal == 0 and predVal != actualVal):\n",
    "        fn += 1\n",
    "        \n",
    "# Compute results\n",
    "accuracy = (tp + tn) / (tp + tn + fp + fn)\n",
    "precision = tp / (tp + fp)\n",
    "recall = tp / (tp + fn)\n",
    "f_measure = 2 * (precision * recall) / (precision + recall)\n",
    "\n",
    "# Display results\n",
    "print(\"Accuracy: \", accuracy)\n",
    "print(\"Precision: \", precision)\n",
    "print(\"Recall: \", recall)\n",
    "print(\"F-measure: \", f_measure)"
   ]
  },
  {
   "cell_type": "code",
   "execution_count": null,
   "metadata": {
    "collapsed": true
   },
   "outputs": [],
   "source": []
  }
 ],
 "metadata": {
  "anaconda-cloud": {},
  "kernelspec": {
   "display_name": "Python [default]",
   "language": "python",
   "name": "python3"
  },
  "language_info": {
   "codemirror_mode": {
    "name": "ipython",
    "version": 3
   },
   "file_extension": ".py",
   "mimetype": "text/x-python",
   "name": "python",
   "nbconvert_exporter": "python",
   "pygments_lexer": "ipython3",
   "version": "3.5.2"
  }
 },
 "nbformat": 4,
 "nbformat_minor": 1
}
