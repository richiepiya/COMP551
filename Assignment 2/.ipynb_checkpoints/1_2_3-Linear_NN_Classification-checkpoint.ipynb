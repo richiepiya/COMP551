{
 "cells": [
  {
   "cell_type": "code",
   "execution_count": 37,
   "metadata": {
    "collapsed": false
   },
   "outputs": [],
   "source": [
    "import numpy as np\n",
    "import pandas as pd\n",
    "import math\n",
    "import matplotlib.pyplot as plt\n",
    "\n",
    "# Read data from DataSets\n",
    "mean0 = pd.read_csv(\"data/DS1_m_0.txt\", header=None)\n",
    "mean1 = pd.read_csv(\"data/DS1_m_1.txt\", header=None)\n",
    "cov = pd.read_csv(\"data/DS1_cov.txt\", header=None)\n",
    "# Drop end column (not useful to us)\n",
    "mean0.drop([20], axis=1, inplace=True)\n",
    "mean1.drop([20], axis=1, inplace=True)\n",
    "cov.drop([20], axis=1, inplace=True)\n",
    "# Change to matrices\n",
    "mean0_m = mean0.as_matrix()[0]\n",
    "mean1_m = mean1.as_matrix()[0]\n",
    "cov_m = cov.as_matrix()[0]\n",
    "\n",
    "# Generate 2000 examples for each class\n",
    "dataEx = 2000\n",
    "class0 = pd.DataFrame(np.random.multivariate_normal(mean0_m, cov, dataEx))\n",
    "class1 = pd.DataFrame(np.random.multivariate_normal(mean1_m, cov, dataEx))\n",
    "# Add classification column\n",
    "class0[20] = 0\n",
    "class1[20] = 1\n",
    "class0_m = class0.as_matrix()\n",
    "class1_m = class1.as_matrix()\n",
    "\n",
    "# Split data into train, valid, test sets\n",
    "allData = np.concatenate((class0_m, class1_m), axis=0)\n",
    "np.random.shuffle(allData)\n",
    "trainSet = allData[0:2400]\n",
    "validSet = allData[2400:3200]\n",
    "testSet = allData[3200:4000]\n",
    "\n",
    "# Save completed datasets\n",
    "pd.DataFrame(allData).to_csv(\"dataGenerated/DS1_data.csv\", index=False, header=False)\n",
    "pd.DataFrame(trainSet).to_csv(\"dataGenerated/DS1_train.csv\", index=False, header=False)\n",
    "pd.DataFrame(validSet).to_csv(\"dataGenerated/DS1_valid.csv\", index=False, header=False)\n",
    "pd.DataFrame(testSet).to_csv(\"dataGenerated/DS1_test.csv\", index=False, header=False)"
   ]
  },
  {
   "cell_type": "code",
   "execution_count": null,
   "metadata": {
    "collapsed": true
   },
   "outputs": [],
   "source": []
  }
 ],
 "metadata": {
  "anaconda-cloud": {},
  "kernelspec": {
   "display_name": "Python [default]",
   "language": "python",
   "name": "python3"
  },
  "language_info": {
   "codemirror_mode": {
    "name": "ipython",
    "version": 3
   },
   "file_extension": ".py",
   "mimetype": "text/x-python",
   "name": "python",
   "nbconvert_exporter": "python",
   "pygments_lexer": "ipython3",
   "version": "3.5.2"
  }
 },
 "nbformat": 4,
 "nbformat_minor": 1
}
