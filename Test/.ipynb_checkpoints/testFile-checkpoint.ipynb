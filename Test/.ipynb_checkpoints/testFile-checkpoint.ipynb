{
 "cells": [
  {
   "cell_type": "code",
   "execution_count": 2,
   "metadata": {
    "collapsed": false
   },
   "outputs": [
    {
     "name": "stdout",
     "output_type": "stream",
     "text": [
      "done\n"
     ]
    }
   ],
   "source": [
    "import numpy as np\n",
    "import pandas as pd\n",
    "import math\n",
    "import pickle\n",
    "\n",
    "binary = [[1,1,1,1,1,1,1,0,1,0], [0,0,0,1,1,1,1,0,1,0], [1,0,1,1,0,0,0,1,0,1]]\n",
    "binary2 = [1,2,3,4,5,6,7,8]\n",
    "with open(\"data/testBinary.txt\", \"wb\") as fp:\n",
    "    pickle.dump(binary, fp)\n",
    "    \n",
    "print(\"done\")\n"
   ]
  },
  {
   "cell_type": "code",
   "execution_count": 1,
   "metadata": {
    "collapsed": false
   },
   "outputs": [
    {
     "name": "stdout",
     "output_type": "stream",
     "text": [
      "<class 'list'>\n",
      "[[1, 1, 1, 1, 1, 1, 1, 0, 1, 0], [0, 0, 0, 1, 1, 1, 1, 0, 1, 0], [1, 0, 1, 1, 0, 0, 0, 1, 0, 1]]\n"
     ]
    }
   ],
   "source": [
    "import pickle\n",
    "\n",
    "with open(\"data/testBinary.txt\", \"rb\") as fp:\n",
    "    b = pickle.load(fp)\n",
    "    \n",
    "print(type(b))\n",
    "print(b)"
   ]
  },
  {
   "cell_type": "code",
   "execution_count": 2,
   "metadata": {
    "collapsed": false
   },
   "outputs": [
    {
     "name": "stdout",
     "output_type": "stream",
     "text": [
      "the\n",
      "4\n"
     ]
    }
   ],
   "source": [
    "dic = [[\"the\", 4], [\"big\", 2], [\"hat\", 9]]\n",
    "dict = {\n",
    "    \"the\": 4,\n",
    "    \"big\": 2,\n",
    "    \"hat\": 9\n",
    "}\n",
    "tempStr = \"the large cow eats chips\"\n",
    "words = tempStr.split()\n",
    "\n",
    "\n",
    "for i in range(len(words)):\n",
    "#     if words[i] in dict:\n",
    "#         print(words[i])\n",
    "#         print(dict[words[i]])\n",
    "\n",
    "    for x in dic:\n",
    "        if (x[0] == words[i]):\n",
    "            print(x[0])\n",
    "            print(x[1])\n"
   ]
  },
  {
   "cell_type": "code",
   "execution_count": null,
   "metadata": {
    "collapsed": true
   },
   "outputs": [],
   "source": []
  }
 ],
 "metadata": {
  "anaconda-cloud": {},
  "kernelspec": {
   "display_name": "Python [default]",
   "language": "python",
   "name": "python3"
  },
  "language_info": {
   "codemirror_mode": {
    "name": "ipython",
    "version": 3
   },
   "file_extension": ".py",
   "mimetype": "text/x-python",
   "name": "python",
   "nbconvert_exporter": "python",
   "pygments_lexer": "ipython3",
   "version": "3.5.2"
  }
 },
 "nbformat": 4,
 "nbformat_minor": 1
}
