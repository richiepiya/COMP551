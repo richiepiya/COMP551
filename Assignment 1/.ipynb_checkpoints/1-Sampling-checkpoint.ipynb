{
 "cells": [
  {
   "cell_type": "code",
   "execution_count": 24,
   "metadata": {
    "collapsed": false
   },
   "outputs": [],
   "source": [
    "import numpy as np\n",
    "import math\n",
    "import matplotlib.pyplot as plt\n",
    "\n",
    "def dailyRoutine(samples) :\n",
    "    activityDist = [0.2, 0.4, 0.1, 0.3]\n",
    "    computedDist = [0.0, 0.0, 0.0, 0.0]\n",
    "    \n",
    "    for i in range(samples):\n",
    "        r = np.random.rand()\n",
    "        \n",
    "        for j in range(len(activityDist)):\n",
    "            # Get distance from each random sample to the activity distribution\n",
    "            if ((r-activityDist[j]) < 0.05):\n",
    "                # If close value, increment occurence of sample\n",
    "                computedDist[j] += 1/samples\n",
    "\n",
    "    return computedDist"
   ]
  },
  {
   "cell_type": "code",
   "execution_count": 30,
   "metadata": {
    "collapsed": false
   },
   "outputs": [
    {
     "name": "stdout",
     "output_type": "stream",
     "text": [
      "Distribution with 100 samples:  [0.24000000000000007, 0.4400000000000002, 0.12999999999999998, 0.34000000000000014]\n",
      "Distribution with 1000 samples:  [0.23600000000000018, 0.43600000000000033, 0.1320000000000001, 0.33600000000000024]\n"
     ]
    }
   ],
   "source": [
    "###2 Implement your sampling algorithm and use it to sample his/her routine for 100 days. Report the fraction of days spent in each activity. Now use it to sample for 1000 days. Report the fraction of days spent in each activity. Compare these fractions to the underlying multinomial distribution.###\n",
    "#print(np.random.multinomial(100, [2.0/10, 4.0/10, 1.0/10, 3.0/10]))\n",
    "#print(np.random.multinomial(1000, [2.0/10, 4.0/10, 1.0/10, 3.0/10]))\n",
    "\n",
    "print(\"Distribution with 100 samples: \", dailyRoutine(100))\n",
    "print(\"Distribution with 1000 samples: \", dailyRoutine(1000))"
   ]
  },
  {
   "cell_type": "code",
   "execution_count": null,
   "metadata": {
    "collapsed": true
   },
   "outputs": [],
   "source": []
  }
 ],
 "metadata": {
  "anaconda-cloud": {},
  "kernelspec": {
   "display_name": "Python [default]",
   "language": "python",
   "name": "python3"
  },
  "language_info": {
   "codemirror_mode": {
    "name": "ipython",
    "version": 3
   },
   "file_extension": ".py",
   "mimetype": "text/x-python",
   "name": "python",
   "nbconvert_exporter": "python",
   "pygments_lexer": "ipython3",
   "version": "3.5.2"
  }
 },
 "nbformat": 4,
 "nbformat_minor": 1
}
